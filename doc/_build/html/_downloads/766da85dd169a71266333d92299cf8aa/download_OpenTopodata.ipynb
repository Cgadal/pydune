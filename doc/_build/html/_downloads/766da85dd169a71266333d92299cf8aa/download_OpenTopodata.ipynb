{
  "cells": [
    {
      "cell_type": "code",
      "execution_count": null,
      "metadata": {
        "collapsed": false
      },
      "outputs": [],
      "source": [
        "%matplotlib inline"
      ]
    },
    {
      "cell_type": "markdown",
      "metadata": {},
      "source": [
        "\n# Downloading topography data from OpenTopography\n\nPlease find below a typical script allowing to download SRTM Global 3-arcsecond data from OpenTopography.\n"
      ]
    },
    {
      "cell_type": "code",
      "execution_count": null,
      "metadata": {
        "collapsed": false
      },
      "outputs": [],
      "source": [
        "from PyDune.data_processing.topography import downloadGlobalOpenTopo as GlobalOT\n\nsouth,north,east,west = 21.25,21.35,54.45,54.55\nbounds = (south,north,east,west)\nloc = GlobalOT.getting_topography_data(bounds,demtype='SRTMGL3')"
      ]
    }
  ],
  "metadata": {
    "kernelspec": {
      "display_name": "Python 3",
      "language": "python",
      "name": "python3"
    },
    "language_info": {
      "codemirror_mode": {
        "name": "ipython",
        "version": 3
      },
      "file_extension": ".py",
      "mimetype": "text/x-python",
      "name": "python",
      "nbconvert_exporter": "python",
      "pygments_lexer": "ipython3",
      "version": "3.10.6"
    }
  },
  "nbformat": 4,
  "nbformat_minor": 0
}