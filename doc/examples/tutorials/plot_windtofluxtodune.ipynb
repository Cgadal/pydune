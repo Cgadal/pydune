{
  "cells": [
    {
      "cell_type": "code",
      "execution_count": null,
      "metadata": {
        "collapsed": false
      },
      "outputs": [],
      "source": [
        "%matplotlib inline"
      ]
    },
    {
      "cell_type": "markdown",
      "metadata": {},
      "source": [
        "\n# From wind data to sand fluxes and dune orientations\n\nIn this tutorial, we show on the use PyDune functions to go from wind data,\nto the calculation of sand fluxes, and then to dune properties.\n"
      ]
    },
    {
      "cell_type": "code",
      "execution_count": null,
      "metadata": {
        "collapsed": false
      },
      "outputs": [],
      "source": [
        "import numpy as np\nimport matplotlib.pyplot as plt\nfrom PyDune.data_processing.meteorological.downloadCDS import load_netcdf\nfrom PyDune.data_processing.meteorological.wind_plot import (velocity_to_shear,\n                                                             plot_flux_rose,\n                                                             plot_wind_rose)\n\nfrom PyDune.math import (cartesian_to_polar, tand, make_angular_PDF,\n                         make_angular_average, vector_average)"
      ]
    },
    {
      "cell_type": "markdown",
      "metadata": {},
      "source": [
        "## Loading and plotting the wind data\n\nWe first load the data, and caculate the shear velocity using the law of the wall:\n\n\n"
      ]
    },
    {
      "cell_type": "code",
      "execution_count": null,
      "metadata": {
        "collapsed": false
      },
      "outputs": [],
      "source": [
        "data = load_netcdf(['../src/ERA5Land2020to2021_Taklamacan.netcdf'])\nz_ERA = 10  # height of wind data in the dataset, [m]\n#\nvelocity, orientation = cartesian_to_polar(data['u10'][:, 0, 0], data['v10'][:, 0, 0])\nshear_velocity = velocity_to_shear(velocity, z_ERA)\n\n# figure\nbins_shear = [0, 0.1, 0.15, 0.2, 0.25, 0.3, 0.35]\nbins = [0, 1.5, 3, 4.5, 6, 7.5]\nbbox_label = dict(boxstyle='round', facecolor=(0, 0, 0, 0.15), edgecolor=(0, 0, 0, 1))\n\nfig, axarr = plt.subplots(1, 2, constrained_layout=True)\na = plot_wind_rose(orientation, velocity, bins, axarr[0], fig, opening=1,\n                   nsector=25, cmap=plt.cm.viridis, legend=True, label='velocity (10m) [m/s]',\n                   props=bbox_label)\na.set_legend(bbox_to_anchor=(-0.15, -0.15))\na = plot_wind_rose(orientation, shear_velocity, bins_shear, axarr[1], fig, opening=1,\n                   nsector=25, cmap=plt.cm.viridis, legend=True, label='shear velocity [m/s]',\n                   props=bbox_label)\na.set_legend(bbox_to_anchor=(-0.15, -0.15))\nplt.show()"
      ]
    },
    {
      "cell_type": "markdown",
      "metadata": {},
      "source": [
        "## Calculating the sand fluxes\n\nWe then calculate sand fluxes using the quartic law:\n\n"
      ]
    },
    {
      "cell_type": "code",
      "execution_count": null,
      "metadata": {
        "collapsed": false
      },
      "outputs": [],
      "source": [
        "from PyDune.physics.sedtransport.transport_laws import quartic_transport_law\n\n# # Parameters\nsectoday = 24*3600\nrho_g = 2.65e3  # grain density\nrho_f = 1   # fluid density\ng = 9.81  # [m/s2]\ngrain_diameters = 180e-6  # grain size [m]\nbed_porosity = 0.6  # bed porosity\n#\nQ = np.sqrt((rho_g - rho_f*g*grain_diameters)/rho_f)*grain_diameters  # characteristic flux [m2/s]\nshield_th_quartic = 0.0035    # threshold shield numbers for the quartic\n\n# shield number\nshield = (rho_f/((rho_g - rho_f)*g*grain_diameters))*shear_velocity**2\n# dimensional sand flux, [m2/day]\nsand_flux = (1/bed_porosity)*Q*quartic_transport_law(shield, shield_th_quartic)*sectoday\n# angular distribution\nangular_PDF, angles = make_angular_PDF(orientation, sand_flux)\n\nDP = np.mean(sand_flux)  # Drift potential, [m2/day]\n# Resultant drift direction [deg.] / Resultant drift potential, [m2/day]\nRDD, RDP = vector_average(orientation, sand_flux)\n\nprint(r\"\"\"\n     - DP =  {: .1f} [m2/day]\n     - RDP = {: .1f} [m2/day]\n     - RDP/DP = {: .2f}\n     - RDD = {: .0f} [deg.]\n\n\"\"\".format(DP, RDP, RDP/DP, RDD % 360))\n\n# figure\nbins_flux = [0, 0.3, 0.6, 0.9, 1.2, 1.5]\nfig, axarr = plt.subplots(1, 2, constrained_layout=True)\na = plot_wind_rose(orientation, sand_flux, bins, axarr[0], fig, opening=1,\n                   nsector=25, cmap=plt.cm.viridis, legend=True, label='sand fluxes [m2/day]',\n                   props=bbox_label)\na.set_legend(bbox_to_anchor=(-0.15, -0.15))\na = plot_flux_rose(angles, angular_PDF, axarr[1], fig, opening=1,\n                   label='angular distribution', nsector=25,\n                   props=bbox_label)\nplt.show()"
      ]
    },
    {
      "cell_type": "markdown",
      "metadata": {},
      "source": [
        "## Properties of incipient dunes\n\nWe compute the propoerties of incipient dunes (in the linear regime) using the model of Gadal et al. 2019.\n\n[1] Gadal, C., Narteau, C., Du Pont, S. C., Rozier, O., & Claudin, P. (2019). Incipient bedforms in a bidirectional wind regime. Journal of Fluid Mechanics, 862, 490-516.\n\n"
      ]
    },
    {
      "cell_type": "code",
      "execution_count": null,
      "metadata": {
        "collapsed": false
      },
      "outputs": [],
      "source": [
        "from PyDune.physics.dune.bedinstability_2D import (temporal_celerity_multi,\n                                                   temporal_growth_rate_multi)\nfrom PyDune.physics.turbulent_flow import Ax_geo, Bx_geo, Ay_geo, By_geo, A0_approx, B0_approx\n\n# parameters\nk = np.linspace(0.001, 0.6, 300)  # range of explored wavelengths, non-dimensional\nalpha = np.linspace(-90, 90, 181)  # range of explored orientations, non-dimensional\nmu = tand(35)  # friction coefficient\ndelta = 0  # diffusion coefficient\nz0 = 1e-3  # hydrodynamic roughness\n\n\ndef Ax(k, alpha): return Ax_geo(alpha, A0_approx(k*z0))\ndef Bx(k, alpha): return Bx_geo(alpha, B0_approx(k*z0))\ndef Ay(k, alpha): return Ay_geo(alpha, A0_approx(k*z0))\ndef By(k, alpha): return By_geo(alpha, A0_approx(k*z0))\n\n\n# threshold shear velocity [m/s]\nshear_velocity_th = np.sqrt(shield_th_quartic/(rho_f/((rho_g - rho_f)*g*grain_diameters)))\n# average velocity ratio by angle bin\nr, _ = make_angular_average(orientation, np.where(shear_velocity > shear_velocity_th,\n                                                  shear_velocity/shear_velocity_th, 1))\n# characteristic average velocity ratio by angle bin (just when its always the threshold)\nr_car, _ = make_angular_average(orientation[shear_velocity > shear_velocity_th],\n                                shear_velocity[shear_velocity > shear_velocity_th]/shear_velocity_th)\n\n# dimensional constants\nLsat = 2.2*((rho_g - rho_f)/rho_f)*grain_diameters  # saturation length [m]\nQ_car = DP*angular_PDF/(1 - 1/r**2)  # Characteristic flux of the instability (without threshold), [m2/day]\nQ_car[np.isnan(Q_car)] = 0\n\n# Calculation of the growth rate\nsigma = temporal_growth_rate_multi(k[None, :, None], alpha[:, None, None], Ax, Ay,\n                                   Bx, By, r_car, mu, delta, angles[None, None, :],\n                                   Q_car[None, None, :], axis=-1)\n\n\n# Properties of the most unstable mode (dimensional)\ni_amax, i_kmax = np.unravel_index(sigma.argmax(), sigma.shape)\nsigma_max = sigma.max()/Lsat**2\nalpha_max = alpha[i_amax]\nk_max = k[i_kmax]/Lsat\nc_max = Lsat*temporal_celerity_multi(Lsat*k_max, alpha_max, Ax, Ay, Bx, By, r_car, mu,\n                                     delta, angles, Q_car, axis=-1)\n\nfig, ax = plt.subplots(1, 1, constrained_layout=True)\nax.contourf(k, alpha, sigma/Lsat**2, levels=200)\nax.plot(k[i_kmax], alpha[i_amax], 'k.')\nax.set_xlabel('None dimensional wavenumber, $k$')\nax.set_ylabel(r'Orientation, $\\alpha$ [deg.]')\nplt.show()\n\nprint(r\"\"\" The properties of the most unstable mode are:\n     - orientation: {:.0f} [deg.]\n     - wavenumber :{:.1e}  [/m]\n     - wavelength : {:.1e} [m]\n     - growth rate :  {:.1e} [/day]\n     - migration velocity: {:.1e} [m/day]\n\n\"\"\".format(alpha_max + 90, k_max, 2*np.pi/k_max, sigma_max, c_max))"
      ]
    },
    {
      "cell_type": "markdown",
      "metadata": {},
      "source": [
        "## Properties of mature dunes\n\nWe then compute the two possible mature dune orientations using the model of Courrech du Pont et al. 2014.\n\n[1] Courrech du Pont, S., Narteau, C., & Gao, X. (2014). Two modes for dune orientation. Geology, 42(9), 743-746.\n\n"
      ]
    },
    {
      "cell_type": "code",
      "execution_count": null,
      "metadata": {
        "collapsed": false
      },
      "outputs": [],
      "source": [
        "from PyDune.physics.dune.courrechdupont2014 import elongation_direction, MGBNT_orientation\n\n\nAlpha_E = elongation_direction(angles, angular_PDF)\nAlpha_BI = MGBNT_orientation(angles, angular_PDF)\n\nprint(r\"\"\" The properties of the mature dunes are:\n     - Elongation direction: {: .0f} [deg]\n     - MGBNT crest orientation: {: .0f} [deg]\n\n\"\"\".format(Alpha_E, Alpha_BI))"
      ]
    }
  ],
  "metadata": {
    "kernelspec": {
      "display_name": "Python 3",
      "language": "python",
      "name": "python3"
    },
    "language_info": {
      "codemirror_mode": {
        "name": "ipython",
        "version": 3
      },
      "file_extension": ".py",
      "mimetype": "text/x-python",
      "name": "python",
      "nbconvert_exporter": "python",
      "pygments_lexer": "ipython3",
      "version": "3.10.6"
    }
  },
  "nbformat": 4,
  "nbformat_minor": 0
}