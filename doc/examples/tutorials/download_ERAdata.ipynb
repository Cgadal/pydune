{
  "cells": [
    {
      "cell_type": "code",
      "execution_count": null,
      "metadata": {
        "collapsed": false
      },
      "outputs": [],
      "source": [
        "%matplotlib inline"
      ]
    },
    {
      "cell_type": "markdown",
      "metadata": {},
      "source": [
        "\n# Downloading data from the ERA* datasets\n\nPlease find below a typical script allowing to download data from the ERA5 Land dataset.\n"
      ]
    },
    {
      "cell_type": "code",
      "execution_count": null,
      "metadata": {
        "collapsed": false
      },
      "outputs": [],
      "source": [
        "from PyDune.data_processing.meteorological import downloadCDS as CDS\n\nmonth = [i for i in range(1, 13)]\nday = [i for i in range(1, 32)]\ntime = [i for i in range(0, 24)]\nyear = [i for i in range(1950, 2023)]\narea = [-16.65, 11.9, -16.66, 11.91]\n\nvariable_dic = {'format': 'netcdf',\n                'variable': ['v10'],\n                'month': month,\n                'day': day,\n                'time': time,\n                'year': year,\n                'area': area,\n                'grid': [1.0, 1.0]}\n\na = CDS.Getting_wind_data('reanalysis-era5-land',\n                          variable_dic, 'Angola_coast_v10',\n                          Nsplit=6,\n                          file='info.txt',\n                          on_grid=False)"
      ]
    }
  ],
  "metadata": {
    "kernelspec": {
      "display_name": "Python 3",
      "language": "python",
      "name": "python3"
    },
    "language_info": {
      "codemirror_mode": {
        "name": "ipython",
        "version": 3
      },
      "file_extension": ".py",
      "mimetype": "text/x-python",
      "name": "python",
      "nbconvert_exporter": "python",
      "pygments_lexer": "ipython3",
      "version": "3.10.6"
    }
  },
  "nbformat": 4,
  "nbformat_minor": 0
}