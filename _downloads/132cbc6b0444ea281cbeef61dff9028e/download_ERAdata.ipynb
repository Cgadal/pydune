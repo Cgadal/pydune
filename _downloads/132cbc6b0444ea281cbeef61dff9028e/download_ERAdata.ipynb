{
  "cells": [
    {
      "cell_type": "markdown",
      "metadata": {},
      "source": [
        "\n# Downloading data from the ERA* datasets\n\nPlease find below a typical script allowing to download data from the ERA5 Land dataset.\n"
      ]
    },
    {
      "cell_type": "code",
      "execution_count": null,
      "metadata": {
        "collapsed": false
      },
      "outputs": [],
      "source": [
        "from pydune.data_processing import getting_CDSdata\n\nmonth = [i for i in range(1, 2)]\nday = [i for i in range(1, 20)]\ntime = [i for i in range(0, 24)]\nyear = [i for i in range(2000, 2001)]\narea = [-16.65, 11.9, -16.66, 11.91]\n\nvariable_dic = {'format': 'netcdf',\n                'variable': ['10m_u_component_of_wind', '2m_temperature'],\n                'month': month,\n                'day': day,\n                'time': time,\n                'year': year,\n                'area': area}\n\na = getting_CDSdata('reanalysis-era5-single-levels',\n                     variable_dic, 'Angola_coast_v10',\n                     Nsplit=1,\n                     file='info.txt',\n                     on_grid=False)"
      ]
    }
  ],
  "metadata": {
    "kernelspec": {
      "display_name": "Python 3",
      "language": "python",
      "name": "python3"
    },
    "language_info": {
      "codemirror_mode": {
        "name": "ipython",
        "version": 3
      },
      "file_extension": ".py",
      "mimetype": "text/x-python",
      "name": "python",
      "nbconvert_exporter": "python",
      "pygments_lexer": "ipython3",
      "version": "3.11.6"
    }
  },
  "nbformat": 4,
  "nbformat_minor": 0
}